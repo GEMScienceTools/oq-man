{
 "cells": [
  {
   "cell_type": "markdown",
   "metadata": {
    "deletable": true,
    "editable": true
   },
   "source": [
    "# Fault length analysis"
   ]
  },
  {
   "cell_type": "code",
   "execution_count": null,
   "metadata": {
    "deletable": true,
    "editable": true
   },
   "outputs": [],
   "source": [
    "%matplotlib inline\n",
    "import os\n",
    "import sys\n",
    "import numpy as np\n",
    "import matplotlib.pyplot as plt\n",
    "sys.path.append('/Users/mpagani/Projects/original/oq-hazardlib/')\n",
    "sys.path.append('/Users/mpagani/Projects/original/oq-engine/')\n",
    "from utils_model import read_model, get_area\n",
    "from shapely.wkt import loads\n",
    "from openquake.hazardlib.const import TRT\n",
    "from openquake.hazardlib.source import SimpleFaultSource"
   ]
  },
  {
   "cell_type": "code",
   "execution_count": null,
   "metadata": {
    "deletable": true,
    "editable": true
   },
   "outputs": [],
   "source": [
    "modeln = './../../data/xml/emca_as.xml'\n",
    "modeln = './../../data/xml/emme_fs_2015.xml'\n",
    "#modeln = './../../data/xml/EOS_SEAsia.xml'\n",
    "sm = read_model(modeln)"
   ]
  },
  {
   "cell_type": "code",
   "execution_count": null,
   "metadata": {
    "deletable": true,
    "editable": true
   },
   "outputs": [],
   "source": [
    "def get_model_data(sm):\n",
    "    extn = []\n",
    "    extr = {}\n",
    "    for src in sm:\n",
    "        src_types = src_types | set([type(src)])\n",
    "        trt_types = trt_types | set([src.tectonic_region_type])\n",
    "        if isinstance(src, SimpleFaultSource) and src.tectonic_region_type == TRT.ACTIVE_SHALLOW_CRUST:\n",
    "            flens.append(src.fault_trace.get_length())\n",
    "    print 'Source types:'\n",
    "    for srct in list(src_types):\n",
    "        print ('  {0:s}'.format(srct))\n",
    "    print 'TRTs:'\n",
    "    for srct in sorted(list(trt_types)):\n",
    "        print ('  {0:s}'.format(srct))\n",
    "    print ('\\nTotal number of fault sources: {0:d}'.format(len(flens)))\n",
    "    return flens"
   ]
  },
  {
   "cell_type": "code",
   "execution_count": null,
   "metadata": {
    "deletable": true,
    "editable": true
   },
   "outputs": [],
   "source": [
    "hist, bin_edges = np.histogram(flens)\n",
    "fig = plt.figure(figsize=(8, 6))\n",
    "ax = fig.add_subplot(1, 1, 1)\n",
    "plt.hist(flens, bins=bin_edges, log=True) \n",
    "plt.xlabel(r'Fault length [km]')\n",
    "plt.grid(which='both', linestyle='--')\n",
    "plt.title(os.path.basename(modeln))\n",
    "plt.ylim([1e-1, 1e3])\n",
    "plt.xlim([0, 1100])\n",
    "plt.text(0.7, 0.95, '# of sources: {0:d}'.format(len(flens)), transform=ax.transAxes)"
   ]
  },
  {
   "cell_type": "code",
   "execution_count": null,
   "metadata": {
    "deletable": true,
    "editable": true
   },
   "outputs": [],
   "source": []
  }
 ],
 "metadata": {
  "kernelspec": {
   "display_name": "Python 2",
   "language": "python",
   "name": "python2"
  },
  "language_info": {
   "codemirror_mode": {
    "name": "ipython",
    "version": 2
   },
   "file_extension": ".py",
   "mimetype": "text/x-python",
   "name": "python",
   "nbconvert_exporter": "python",
   "pygments_lexer": "ipython2",
   "version": "2.7.13"
  }
 },
 "nbformat": 4,
 "nbformat_minor": 2
}
