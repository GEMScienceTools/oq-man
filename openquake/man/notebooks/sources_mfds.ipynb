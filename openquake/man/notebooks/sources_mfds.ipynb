{
 "cells": [
  {
   "cell_type": "markdown",
   "metadata": {},
   "source": [
    "# Sources mfds"
   ]
  },
  {
   "cell_type": "code",
   "execution_count": null,
   "metadata": {},
   "outputs": [],
   "source": [
    "%matplotlib inline\n",
    "import re\n",
    "import os\n",
    "import sys\n",
    "import glob\n",
    "import numpy as np\n",
    "import matplotlib.pyplot as plt\n",
    "import matplotlib as mpl\n",
    "\n",
    "sys.path.append('/Users/mpagani/Projects/original/oq-hazardlib/')\n",
    "sys.path.append('/Users/mpagani/Projects/oq-man/')\n",
    "\n",
    "import openquake.man.model as model\n",
    "from openquake.man.single.sources import get_discrete_mfds\n",
    "\n",
    "from openquake.man.single.faults import get_lengths\n",
    "from openquake.hazardlib.const import TRT"
   ]
  },
  {
   "cell_type": "markdown",
   "metadata": {},
   "source": [
    "## Model to be analysed"
   ]
  },
  {
   "cell_type": "code",
   "execution_count": null,
   "metadata": {},
   "outputs": [],
   "source": [
    "path = '/Users/mpagani/Prj/2017/global_modelling/results/pkl/*.pkl'\n",
    "modell = set(['arm17'])\n",
    "modell = set(['am17a'])"
   ]
  },
  {
   "cell_type": "markdown",
   "metadata": {},
   "source": [
    "## Read data for the different models"
   ]
  },
  {
   "cell_type": "code",
   "execution_count": null,
   "metadata": {},
   "outputs": [],
   "source": [
    "modd = {}\n",
    "for fname in glob.glob(path):\n",
    "    slist = re.split('\\.',  os.path.basename(fname)) \n",
    "    if re.search('[a-z]*[0-9]*\\.pkl', fname) and slist[0] in modell:\n",
    "        print (fname, end=' ')\n",
    "        mod, points, info, sidx = model.load(fname) \n",
    "        print ('done')\n",
    "        modd[slist[0]] = {'model': mod, 'info': info}"
   ]
  },
  {
   "cell_type": "markdown",
   "metadata": {},
   "source": [
    "## Plotting"
   ]
  },
  {
   "cell_type": "code",
   "execution_count": null,
   "metadata": {},
   "outputs": [],
   "source": [
    "fig = plt.figure(figsize=(10, 8))\n",
    "ax = fig.add_subplot(1, 1, 1)\n",
    "\n",
    "mpl.rcParams['xtick.labelsize'] = 14\n",
    "mpl.rcParams['ytick.labelsize'] = 14\n",
    "\n",
    "bins = np.logspace(0, 4, 17)\n",
    "\n",
    "cnt = 1\n",
    "lbls = []\n",
    "xs = []\n",
    "his = {}\n",
    "for key in sorted(modd.keys()):\n",
    "\n",
    "    print ('key: ',key)   \n",
    "    print ('')\n",
    "    print ('info:', set(modd[key]['info']['trt_mmax']))\n",
    "\n",
    "    ids = [s.source_id for s in modd[key]['model']]\n",
    "    mfds = get_discrete_mfds(modd[key]['model'])\n",
    "\n",
    "    for sid, mfd in zip(ids, mfds):\n",
    "        plt.plot(mfd[mfd[:,1] > 1e-20,0], \n",
    "                 mfd[mfd[:,1] > 1e-20,1])\n",
    "        #plt.text(mfd[0,0], mfd[0,1], sid, fontsize=8)\n",
    "           \n",
    "\n",
    "    plt.yscale('log')\n",
    "    plt.xlabel('Magnitude, m', fontsize=14)\n",
    "    plt.grid(which='both')"
   ]
  },
  {
   "cell_type": "code",
   "execution_count": null,
   "metadata": {},
   "outputs": [],
   "source": []
  },
  {
   "cell_type": "code",
   "execution_count": null,
   "metadata": {},
   "outputs": [],
   "source": []
  }
 ],
 "metadata": {
  "kernelspec": {
   "display_name": "py35",
   "language": "python",
   "name": "py35"
  },
  "language_info": {
   "codemirror_mode": {
    "name": "ipython",
    "version": 3
   },
   "file_extension": ".py",
   "mimetype": "text/x-python",
   "name": "python",
   "nbconvert_exporter": "python",
   "pygments_lexer": "ipython3",
   "version": "3.5.3"
  }
 },
 "nbformat": 4,
 "nbformat_minor": 2
}
