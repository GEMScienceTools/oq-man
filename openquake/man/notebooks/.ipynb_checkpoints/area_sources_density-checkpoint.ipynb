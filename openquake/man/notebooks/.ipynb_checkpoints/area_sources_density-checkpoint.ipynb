{
 "cells": [
  {
   "cell_type": "markdown",
   "metadata": {},
   "source": [
    "# Analyse area source density "
   ]
  },
  {
   "cell_type": "code",
   "execution_count": null,
   "metadata": {},
   "outputs": [],
   "source": [
    "%matplotlib inline\n",
    "import re\n",
    "import os\n",
    "import sys\n",
    "import glob\n",
    "import numpy as np\n",
    "import matplotlib.pyplot as plt\n",
    "import matplotlib as mpl\n",
    "\n",
    "sys.path.append('/Users/mpagani/Repos/original/oq-engine/')\n",
    "sys.path.append('/Users/mpagani/Repos/oq-man/')\n",
    "\n",
    "import openquake.man.model as model\n",
    "\n",
    "from openquake.man.single.areas import get_rates_density\n",
    "from openquake.hazardlib.const import TRT"
   ]
  },
  {
   "cell_type": "markdown",
   "metadata": {},
   "source": [
    "## List of models to be analysed"
   ]
  },
  {
   "cell_type": "code",
   "execution_count": null,
   "metadata": {},
   "outputs": [],
   "source": [
    "path = './pkl/*.pkl'\n",
    "modell = set(['als07', 'aus12', 'ca10h', 'ca10r', 'cub03', 'ear16', 'em16a',\n",
    "              'em16f', 'emc15', 'lea02', 'nzl10', 'res12', 'sar16', 'sea07',\n",
    "              'soa10', 'twn15', 'usa08'])\n",
    "#modell = set(['cub03'])"
   ]
  },
  {
   "cell_type": "markdown",
   "metadata": {},
   "source": [
    "## Read data for the different models"
   ]
  },
  {
   "cell_type": "code",
   "execution_count": null,
   "metadata": {},
   "outputs": [],
   "source": [
    "modd = {}\n",
    "for fname in glob.glob(path):\n",
    "    slist = re.split('\\.',  os.path.basename(fname))\n",
    "    if re.search('[a-z]*[0-9]*\\.pkl', fname) and slist[0] in modell:\n",
    "        print (fname, end=' ')\n",
    "        mod, point, info, sidx = model.load(fname)\n",
    "        print (len(mod), end=' ')\n",
    "        print ('done')\n",
    "        modd[slist[0]] = {'model': mod, 'info': info}"
   ]
  },
  {
   "cell_type": "markdown",
   "metadata": {},
   "source": [
    "## Plotting"
   ]
  },
  {
   "cell_type": "code",
   "execution_count": null,
   "metadata": {},
   "outputs": [],
   "source": [
    "fig = plt.figure(figsize=(10, 8))\n",
    "ax = fig.add_subplot(1, 1, 1)\n",
    "\n",
    "mpl.rcParams['xtick.labelsize'] = 14\n",
    "mpl.rcParams['ytick.labelsize'] = 14\n",
    "\n",
    "bins = np.logspace(-10, -2, 17)\n",
    "\n",
    "cnt = 1\n",
    "lbls = []\n",
    "xs = []\n",
    "his = {}\n",
    "for key in sorted(modd.keys()):\n",
    "    # Check if the model contains area sources\n",
    "    if 'AreaSource' in modd[key]['info']['srcs_mmax']:\n",
    "\n",
    "        print ('')\n",
    "        print (key, modd[key]['info']['srcs_mmax']['AreaSource'])\n",
    "        print (set(modd[key]['info']['trt_mmax']))\n",
    "\n",
    "        fltr = 'Stable Continental Crust|Stable Continental Region|Stable Shallow Crust|Cratonic|Non_cratonic'; sxx = 0.25\n",
    "        fltr = 'Active Shallow Crust'; sxx = 0.35\n",
    "        dend = get_rates_density(modd[key]['model'], mmint=5.0, trt=fltr)\n",
    "        dens = []\n",
    "        for _, value in dend.items():\n",
    "            dens.append(value)\n",
    "\n",
    "        if len(dens):\n",
    "            print (min(dens), max(dens))\n",
    "            his, _ = np.histogram(dens, bins)\n",
    "            imin = np.min(np.nonzero(his>0))\n",
    "            imax = np.max(np.nonzero(his>0))\n",
    "\n",
    "            lbls.append(key)\n",
    "            xs.append(cnt)\n",
    "            plt.plot([cnt, cnt], [min(dens), max(dens)],\n",
    "                     linewidth=5, color='grey', alpha=.5)\n",
    "        \n",
    "            # plotting histogram\n",
    "            dlt = 1\n",
    "            nrm = his[imin:imax+dlt]/float(sum(his[imin:imax+dlt]))\n",
    "\n",
    "            plt.barh(bins[imin:imax+dlt], \n",
    "                     nrm, \n",
    "                     height=np.diff(bins[imin:imax+2])*0.8, \n",
    "                     left=cnt+0.1, \n",
    "                     edgecolor='black',\n",
    "                     align='edge')\n",
    "\n",
    "            for y, x, h in zip(bins[imin:imax+dlt], nrm, his[imin:imax+dlt]):\n",
    "                #plt.text(cnt-0.35, y, '{0:>5d}'.format(h))\n",
    "                plt.text(cnt-sxx, y, '{0:>5d}'.format(h))\n",
    "\n",
    "            # updating counter\n",
    "            cnt += 1\n",
    "\n",
    "plt.yscale('log')\n",
    "plt.ylabel('Eqks rate [1/[km2*yr]]', fontsize=14)\n",
    "plt.grid(linestyle='--')\n",
    "plt.ylim([1e-10, 1e-2])\n",
    "aa = plt.xticks(xs, lbls, rotation='vertical')"
   ]
  },
  {
   "cell_type": "code",
   "execution_count": null,
   "metadata": {},
   "outputs": [],
   "source": []
  }
 ],
 "metadata": {
  "kernelspec": {
   "display_name": "Python 2",
   "language": "python",
   "name": "python2"
  },
  "language_info": {
   "codemirror_mode": {
    "name": "ipython",
    "version": 2
   },
   "file_extension": ".py",
   "mimetype": "text/x-python",
   "name": "python",
   "nbconvert_exporter": "python",
   "pygments_lexer": "ipython2",
   "version": "2.7.13"
  }
 },
 "nbformat": 4,
 "nbformat_minor": 2
}
